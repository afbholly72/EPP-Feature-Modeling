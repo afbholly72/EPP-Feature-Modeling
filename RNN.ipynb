{
 "cells": [
  {
   "cell_type": "code",
   "execution_count": 169,
   "metadata": {},
   "outputs": [],
   "source": [
    "%matplotlib inline\n",
    "import matplotlib.pyplot as plt\n",
    "import tensorflow as tf\n",
    "import numpy as np\n",
    "import pandas as pd\n",
    "import os\n",
    "from sklearn.preprocessing import MinMaxScaler\n",
    "from sklearn.metrics import mean_squared_error\n",
    "from sklearn.metrics import accuracy_score\n",
    "from sklearn.metrics import r2_score"
   ]
  },
  {
   "cell_type": "code",
   "execution_count": 179,
   "metadata": {},
   "outputs": [],
   "source": [
    "# from tf.keras.models import Sequential  # This does not work!\n",
    "from tensorflow.python.keras.models import Sequential\n",
    "from tensorflow.python.keras.layers import Input, Dense, GRU, Embedding\n",
    "from tensorflow.python.keras.optimizers import RMSprop\n",
    "from tensorflow.python.keras.callbacks import EarlyStopping, ModelCheckpoint, TensorBoard, ReduceLROnPlateau\n",
    "from tensorflow.python.keras import metrics"
   ]
  },
  {
   "cell_type": "code",
   "execution_count": 45,
   "metadata": {},
   "outputs": [
    {
     "data": {
      "text/html": [
       "<div>\n",
       "<style scoped>\n",
       "    .dataframe tbody tr th:only-of-type {\n",
       "        vertical-align: middle;\n",
       "    }\n",
       "\n",
       "    .dataframe tbody tr th {\n",
       "        vertical-align: top;\n",
       "    }\n",
       "\n",
       "    .dataframe thead th {\n",
       "        text-align: right;\n",
       "    }\n",
       "</style>\n",
       "<table border=\"1\" class=\"dataframe\">\n",
       "  <thead>\n",
       "    <tr style=\"text-align: right;\">\n",
       "      <th></th>\n",
       "      <th>Price</th>\n",
       "      <th>AllFuelsGen</th>\n",
       "      <th>NatGasGen</th>\n",
       "      <th>HydroGen</th>\n",
       "      <th>RenewablesGen</th>\n",
       "      <th>GDP</th>\n",
       "      <th>AvgTemp</th>\n",
       "      <th>AvgRelHum</th>\n",
       "      <th>NatGasPrice</th>\n",
       "      <th>TotElecNetGen</th>\n",
       "      <th>TotNatGasCons</th>\n",
       "      <th>TotRetailElecSales</th>\n",
       "    </tr>\n",
       "  </thead>\n",
       "  <tbody>\n",
       "    <tr>\n",
       "      <th>0</th>\n",
       "      <td>11.07</td>\n",
       "      <td>14657.59</td>\n",
       "      <td>7418.12</td>\n",
       "      <td>1685.15</td>\n",
       "      <td>1689.59</td>\n",
       "      <td>1627.98</td>\n",
       "      <td>52.57</td>\n",
       "      <td>54.51</td>\n",
       "      <td>3.90</td>\n",
       "      <td>305.50</td>\n",
       "      <td>2120.20</td>\n",
       "      <td>19959.27</td>\n",
       "    </tr>\n",
       "    <tr>\n",
       "      <th>1</th>\n",
       "      <td>11.32</td>\n",
       "      <td>14591.10</td>\n",
       "      <td>6687.45</td>\n",
       "      <td>2515.53</td>\n",
       "      <td>1812.00</td>\n",
       "      <td>1631.46</td>\n",
       "      <td>54.04</td>\n",
       "      <td>47.27</td>\n",
       "      <td>3.79</td>\n",
       "      <td>319.94</td>\n",
       "      <td>2487.64</td>\n",
       "      <td>19863.79</td>\n",
       "    </tr>\n",
       "    <tr>\n",
       "      <th>2</th>\n",
       "      <td>11.17</td>\n",
       "      <td>12655.47</td>\n",
       "      <td>5888.04</td>\n",
       "      <td>1920.92</td>\n",
       "      <td>1626.95</td>\n",
       "      <td>1634.93</td>\n",
       "      <td>59.60</td>\n",
       "      <td>38.86</td>\n",
       "      <td>3.76</td>\n",
       "      <td>281.83</td>\n",
       "      <td>2242.43</td>\n",
       "      <td>17781.30</td>\n",
       "    </tr>\n",
       "    <tr>\n",
       "      <th>3</th>\n",
       "      <td>11.35</td>\n",
       "      <td>15788.66</td>\n",
       "      <td>7704.10</td>\n",
       "      <td>2452.48</td>\n",
       "      <td>1933.86</td>\n",
       "      <td>1638.40</td>\n",
       "      <td>55.29</td>\n",
       "      <td>51.49</td>\n",
       "      <td>3.84</td>\n",
       "      <td>302.55</td>\n",
       "      <td>2258.43</td>\n",
       "      <td>18227.13</td>\n",
       "    </tr>\n",
       "    <tr>\n",
       "      <th>4</th>\n",
       "      <td>10.99</td>\n",
       "      <td>13995.83</td>\n",
       "      <td>5634.56</td>\n",
       "      <td>2913.90</td>\n",
       "      <td>1895.40</td>\n",
       "      <td>1641.88</td>\n",
       "      <td>57.28</td>\n",
       "      <td>70.29</td>\n",
       "      <td>4.21</td>\n",
       "      <td>289.85</td>\n",
       "      <td>1880.99</td>\n",
       "      <td>18614.31</td>\n",
       "    </tr>\n",
       "  </tbody>\n",
       "</table>\n",
       "</div>"
      ],
      "text/plain": [
       "   Price  AllFuelsGen  NatGasGen  HydroGen  RenewablesGen      GDP  AvgTemp  \\\n",
       "0  11.07     14657.59    7418.12   1685.15        1689.59  1627.98    52.57   \n",
       "1  11.32     14591.10    6687.45   2515.53        1812.00  1631.46    54.04   \n",
       "2  11.17     12655.47    5888.04   1920.92        1626.95  1634.93    59.60   \n",
       "3  11.35     15788.66    7704.10   2452.48        1933.86  1638.40    55.29   \n",
       "4  10.99     13995.83    5634.56   2913.90        1895.40  1641.88    57.28   \n",
       "\n",
       "   AvgRelHum  NatGasPrice  TotElecNetGen  TotNatGasCons  TotRetailElecSales  \n",
       "0      54.51         3.90         305.50        2120.20            19959.27  \n",
       "1      47.27         3.79         319.94        2487.64            19863.79  \n",
       "2      38.86         3.76         281.83        2242.43            17781.30  \n",
       "3      51.49         3.84         302.55        2258.43            18227.13  \n",
       "4      70.29         4.21         289.85        1880.99            18614.31  "
      ]
     },
     "execution_count": 45,
     "metadata": {},
     "output_type": "execute_result"
    }
   ],
   "source": [
    "rawData = pd.read_csv('toyData.csv', sep=',')\n",
    "rawData.head()"
   ]
  },
  {
   "cell_type": "code",
   "execution_count": 51,
   "metadata": {},
   "outputs": [],
   "source": [
    "shiftMonths = 24"
   ]
  },
  {
   "cell_type": "code",
   "execution_count": 52,
   "metadata": {},
   "outputs": [],
   "source": [
    "dfTargets = rawData.shift(-shiftMonths)"
   ]
  },
  {
   "cell_type": "code",
   "execution_count": 53,
   "metadata": {},
   "outputs": [
    {
     "data": {
      "text/html": [
       "<div>\n",
       "<style scoped>\n",
       "    .dataframe tbody tr th:only-of-type {\n",
       "        vertical-align: middle;\n",
       "    }\n",
       "\n",
       "    .dataframe tbody tr th {\n",
       "        vertical-align: top;\n",
       "    }\n",
       "\n",
       "    .dataframe thead th {\n",
       "        text-align: right;\n",
       "    }\n",
       "</style>\n",
       "<table border=\"1\" class=\"dataframe\">\n",
       "  <thead>\n",
       "    <tr style=\"text-align: right;\">\n",
       "      <th></th>\n",
       "      <th>Price</th>\n",
       "      <th>AllFuelsGen</th>\n",
       "      <th>NatGasGen</th>\n",
       "      <th>HydroGen</th>\n",
       "      <th>RenewablesGen</th>\n",
       "      <th>GDP</th>\n",
       "      <th>AvgTemp</th>\n",
       "      <th>AvgRelHum</th>\n",
       "      <th>NatGasPrice</th>\n",
       "      <th>TotElecNetGen</th>\n",
       "      <th>TotNatGasCons</th>\n",
       "      <th>TotRetailElecSales</th>\n",
       "    </tr>\n",
       "  </thead>\n",
       "  <tbody>\n",
       "    <tr>\n",
       "      <th>0</th>\n",
       "      <td>11.26</td>\n",
       "      <td>15249.50</td>\n",
       "      <td>7152.61</td>\n",
       "      <td>2479.54</td>\n",
       "      <td>1897.01</td>\n",
       "      <td>1745.04</td>\n",
       "      <td>54.23</td>\n",
       "      <td>45.68</td>\n",
       "      <td>5.89</td>\n",
       "      <td>331.68</td>\n",
       "      <td>2263.66</td>\n",
       "      <td>20861.67</td>\n",
       "    </tr>\n",
       "    <tr>\n",
       "      <th>1</th>\n",
       "      <td>11.08</td>\n",
       "      <td>15284.73</td>\n",
       "      <td>7165.57</td>\n",
       "      <td>2741.77</td>\n",
       "      <td>1807.98</td>\n",
       "      <td>1752.36</td>\n",
       "      <td>54.91</td>\n",
       "      <td>45.74</td>\n",
       "      <td>6.41</td>\n",
       "      <td>346.55</td>\n",
       "      <td>2675.83</td>\n",
       "      <td>20188.61</td>\n",
       "    </tr>\n",
       "    <tr>\n",
       "      <th>2</th>\n",
       "      <td>11.41</td>\n",
       "      <td>14469.30</td>\n",
       "      <td>7261.82</td>\n",
       "      <td>2509.35</td>\n",
       "      <td>1768.38</td>\n",
       "      <td>1930.88</td>\n",
       "      <td>51.61</td>\n",
       "      <td>54.76</td>\n",
       "      <td>6.35</td>\n",
       "      <td>314.28</td>\n",
       "      <td>2511.10</td>\n",
       "      <td>17876.56</td>\n",
       "    </tr>\n",
       "    <tr>\n",
       "      <th>3</th>\n",
       "      <td>10.98</td>\n",
       "      <td>15867.47</td>\n",
       "      <td>7721.33</td>\n",
       "      <td>3562.45</td>\n",
       "      <td>1932.44</td>\n",
       "      <td>1766.98</td>\n",
       "      <td>64.09</td>\n",
       "      <td>53.14</td>\n",
       "      <td>6.23</td>\n",
       "      <td>308.81</td>\n",
       "      <td>2100.92</td>\n",
       "      <td>19782.73</td>\n",
       "    </tr>\n",
       "    <tr>\n",
       "      <th>4</th>\n",
       "      <td>10.23</td>\n",
       "      <td>15347.64</td>\n",
       "      <td>7544.69</td>\n",
       "      <td>3441.20</td>\n",
       "      <td>1948.85</td>\n",
       "      <td>1774.29</td>\n",
       "      <td>61.91</td>\n",
       "      <td>60.70</td>\n",
       "      <td>6.31</td>\n",
       "      <td>290.56</td>\n",
       "      <td>1745.17</td>\n",
       "      <td>19642.47</td>\n",
       "    </tr>\n",
       "  </tbody>\n",
       "</table>\n",
       "</div>"
      ],
      "text/plain": [
       "   Price  AllFuelsGen  NatGasGen  HydroGen  RenewablesGen      GDP  AvgTemp  \\\n",
       "0  11.26     15249.50    7152.61   2479.54        1897.01  1745.04    54.23   \n",
       "1  11.08     15284.73    7165.57   2741.77        1807.98  1752.36    54.91   \n",
       "2  11.41     14469.30    7261.82   2509.35        1768.38  1930.88    51.61   \n",
       "3  10.98     15867.47    7721.33   3562.45        1932.44  1766.98    64.09   \n",
       "4  10.23     15347.64    7544.69   3441.20        1948.85  1774.29    61.91   \n",
       "\n",
       "   AvgRelHum  NatGasPrice  TotElecNetGen  TotNatGasCons  TotRetailElecSales  \n",
       "0      45.68         5.89         331.68        2263.66            20861.67  \n",
       "1      45.74         6.41         346.55        2675.83            20188.61  \n",
       "2      54.76         6.35         314.28        2511.10            17876.56  \n",
       "3      53.14         6.23         308.81        2100.92            19782.73  \n",
       "4      60.70         6.31         290.56        1745.17            19642.47  "
      ]
     },
     "execution_count": 53,
     "metadata": {},
     "output_type": "execute_result"
    }
   ],
   "source": [
    "dfTargets.head()"
   ]
  },
  {
   "cell_type": "code",
   "execution_count": 58,
   "metadata": {},
   "outputs": [],
   "source": [
    "xData = rawData.values[0:-shiftMonths]"
   ]
  },
  {
   "cell_type": "code",
   "execution_count": 59,
   "metadata": {},
   "outputs": [
    {
     "name": "stdout",
     "output_type": "stream",
     "text": [
      "<class 'numpy.ndarray'>\n",
      "Shape: (146, 12)\n"
     ]
    }
   ],
   "source": [
    "print(type(xData))\n",
    "print(\"Shape:\", xData.shape)"
   ]
  },
  {
   "cell_type": "code",
   "execution_count": 62,
   "metadata": {},
   "outputs": [],
   "source": [
    "yData = dfTargets.values[:-shiftMonths,0]"
   ]
  },
  {
   "cell_type": "code",
   "execution_count": 63,
   "metadata": {},
   "outputs": [
    {
     "name": "stdout",
     "output_type": "stream",
     "text": [
      "<class 'numpy.ndarray'>\n",
      "Shape: (146,)\n"
     ]
    }
   ],
   "source": [
    "print(type(yData))\n",
    "print(\"Shape:\", yData.shape)"
   ]
  },
  {
   "cell_type": "code",
   "execution_count": 81,
   "metadata": {},
   "outputs": [
    {
     "name": "stdout",
     "output_type": "stream",
     "text": [
      "Number of samples in training data: 116\n",
      "Number of samples in test data: 30\n"
     ]
    }
   ],
   "source": [
    "from sklearn.model_selection import train_test_split\n",
    "\n",
    "xTrain, xTest, yTrain, yTest = train_test_split(xData, yData, test_size=0.20, random_state=0)\n",
    "print ('Number of samples in training data:',len(xTrain))\n",
    "print ('Number of samples in test data:',len(xTest))"
   ]
  },
  {
   "cell_type": "code",
   "execution_count": 66,
   "metadata": {},
   "outputs": [],
   "source": [
    "xScaler = MinMaxScaler()"
   ]
  },
  {
   "cell_type": "code",
   "execution_count": 67,
   "metadata": {},
   "outputs": [],
   "source": [
    "xTrainScaled = xScaler.fit_transform(xTrain)"
   ]
  },
  {
   "cell_type": "code",
   "execution_count": 68,
   "metadata": {},
   "outputs": [
    {
     "name": "stdout",
     "output_type": "stream",
     "text": [
      "Min: 0.0\n",
      "Max: 1.0000000000000004\n"
     ]
    }
   ],
   "source": [
    "print(\"Min:\", np.min(xTrainScaled))\n",
    "print(\"Max:\", np.max(xTrainScaled))"
   ]
  },
  {
   "cell_type": "code",
   "execution_count": 69,
   "metadata": {},
   "outputs": [],
   "source": [
    "xTestScaled = xScaler.transform(xTest)"
   ]
  },
  {
   "cell_type": "code",
   "execution_count": 84,
   "metadata": {},
   "outputs": [],
   "source": [
    "yTrain = yTrain.reshape(-1,1)\n",
    "yTest = yTest.reshape(-1,1)"
   ]
  },
  {
   "cell_type": "code",
   "execution_count": 86,
   "metadata": {},
   "outputs": [],
   "source": [
    "yScaler = MinMaxScaler()\n",
    "yTrainScaled = yScaler.fit_transform(yTrain)\n",
    "yTestScaled = yScaler.transform(yTest)"
   ]
  },
  {
   "cell_type": "code",
   "execution_count": 87,
   "metadata": {},
   "outputs": [
    {
     "name": "stdout",
     "output_type": "stream",
     "text": [
      "(116, 12)\n",
      "(116, 1)\n"
     ]
    }
   ],
   "source": [
    "print(xTrainScaled.shape)\n",
    "print(yTrainScaled.shape)"
   ]
  },
  {
   "cell_type": "code",
   "execution_count": 104,
   "metadata": {},
   "outputs": [],
   "source": [
    "numXSignals = xData.shape[1]\n",
    "numYSignals = 1"
   ]
  },
  {
   "cell_type": "code",
   "execution_count": 105,
   "metadata": {},
   "outputs": [],
   "source": [
    "def batchGenerator(batchSize, sequenceLength):\n",
    "    \"\"\"\n",
    "    Generator function for creating random batches of training-data.\n",
    "    \"\"\"\n",
    "\n",
    "    # Infinite loop.\n",
    "    while True:\n",
    "        # Allocate a new array for the batch of input-signals.\n",
    "        numXSignals = xData.shape[1]\n",
    "        xShape = (batchSize, sequenceLength, numXSignals)\n",
    "        xBatch = np.zeros(shape=xShape, dtype=np.float16)\n",
    "\n",
    "        # Allocate a new array for the batch of output-signals.\n",
    "        numYSignals = 1\n",
    "        yShape = (batchSize, sequenceLength, numYSignals)\n",
    "        yBatch = np.zeros(shape=yShape, dtype=np.float16)\n",
    "\n",
    "        # Fill the batch with random sequences of data.\n",
    "        for i in range(batchSize):\n",
    "            # Get a random start-index.\n",
    "            # This points somewhere into the training-data.\n",
    "            numTrain = len(yTrain)\n",
    "            idx = np.random.randint(numTrain - sequenceLength)\n",
    "            \n",
    "            # Copy the sequences of data starting at this index.\n",
    "            xBatch[i] = xTrainScaled[idx:idx+sequenceLength]\n",
    "            yBatch[i] = yTrainScaled[idx:idx+sequenceLength]\n",
    "        \n",
    "        yield (xBatch, yBatch)"
   ]
  },
  {
   "cell_type": "code",
   "execution_count": 95,
   "metadata": {},
   "outputs": [],
   "source": [
    "batchSize = 256\n",
    "sequenceLength = 12"
   ]
  },
  {
   "cell_type": "code",
   "execution_count": 96,
   "metadata": {},
   "outputs": [],
   "source": [
    "generator = batchGenerator(batchSize=batchSize,\n",
    "                           sequenceLength=sequenceLength)"
   ]
  },
  {
   "cell_type": "code",
   "execution_count": 97,
   "metadata": {},
   "outputs": [],
   "source": [
    "xBatch, yBatch = next(generator)"
   ]
  },
  {
   "cell_type": "code",
   "execution_count": 98,
   "metadata": {},
   "outputs": [
    {
     "name": "stdout",
     "output_type": "stream",
     "text": [
      "(256, 12, 12)\n",
      "(256, 12, 1)\n"
     ]
    }
   ],
   "source": [
    "print(xBatch.shape)\n",
    "print(yBatch.shape)"
   ]
  },
  {
   "cell_type": "code",
   "execution_count": 99,
   "metadata": {},
   "outputs": [],
   "source": [
    "validationData = (np.expand_dims(xTestScaled, axis=0),\n",
    "                  np.expand_dims(yTestScaled, axis=0))"
   ]
  },
  {
   "cell_type": "code",
   "execution_count": 100,
   "metadata": {},
   "outputs": [],
   "source": [
    "model = Sequential()"
   ]
  },
  {
   "cell_type": "code",
   "execution_count": 102,
   "metadata": {},
   "outputs": [],
   "source": [
    "model.add(GRU(units=512,\n",
    "              return_sequences=True,\n",
    "              input_shape=(None, numXSignals,)))"
   ]
  },
  {
   "cell_type": "code",
   "execution_count": 107,
   "metadata": {},
   "outputs": [],
   "source": [
    "model.add(Dense(numYSignals, activation='sigmoid'))"
   ]
  },
  {
   "cell_type": "code",
   "execution_count": 188,
   "metadata": {},
   "outputs": [],
   "source": [
    "if False:\n",
    "    from tensorflow.python.keras.initializers import RandomUniform\n",
    "\n",
    "    # Maybe use lower init-ranges.\n",
    "    init = RandomUniform(minval=-0.05, maxval=0.05)\n",
    "\n",
    "    model.add(Dense(numYSignals,\n",
    "                    activation='linear',\n",
    "                    kernel_initializer=init))"
   ]
  },
  {
   "cell_type": "code",
   "execution_count": 109,
   "metadata": {},
   "outputs": [],
   "source": [
    "warmUpSteps = 10"
   ]
  },
  {
   "cell_type": "code",
   "execution_count": 112,
   "metadata": {},
   "outputs": [],
   "source": [
    "def lossMSEWarmup(yTrue, yPred):\n",
    "    \"\"\"\n",
    "    Calculate the Mean Squared Error between yTrue and yPred,\n",
    "    but ignore the beginning \"warmup\" part of the sequences.\n",
    "    \n",
    "    yTrue is the desired output.\n",
    "    yPred is the model's output.\n",
    "    \"\"\"\n",
    "\n",
    "    # The shape of both input tensors are:\n",
    "    # [batchSize, sequenceLength, numYSignals]\n",
    "\n",
    "    # Ignore the \"warmup\" parts of the sequences\n",
    "    # by taking slices of the tensors.\n",
    "    yTrueSlice = yTrue[:, warmUpSteps:, :]\n",
    "    yPredSlice = yPred[:, warmUpSteps:, :]\n",
    "\n",
    "    # These sliced tensors both have this shape:\n",
    "    # [batchSize, sequenceLength, numYSignals]\n",
    "\n",
    "    # Calculate the MSE loss for each value in these tensors.\n",
    "    # This outputs a 3-rank tensor of the same shape.\n",
    "    loss = tf.losses.mean_squared_error(labels=yTrueSlice,\n",
    "                                        predictions=yPredSlice)\n",
    "\n",
    "    # Keras may reduce this across the first axis (the batch)\n",
    "    # but the semantics are unclear, so to be sure we use\n",
    "    # the loss across the entire tensor, we reduce it to a\n",
    "    # single scalar with the mean function.\n",
    "    lossMean = tf.reduce_mean(loss)\n",
    "\n",
    "    return lossMean"
   ]
  },
  {
   "cell_type": "code",
   "execution_count": 113,
   "metadata": {},
   "outputs": [],
   "source": [
    "optimizer = RMSprop(lr=1e-3)"
   ]
  },
  {
   "cell_type": "code",
   "execution_count": 201,
   "metadata": {},
   "outputs": [],
   "source": [
    "model.compile(loss=lossMSEWarmup, \n",
    "              optimizer=optimizer, \n",
    "              metrics = ['mse'])"
   ]
  },
  {
   "cell_type": "code",
   "execution_count": 202,
   "metadata": {},
   "outputs": [
    {
     "name": "stdout",
     "output_type": "stream",
     "text": [
      "_________________________________________________________________\n",
      "Layer (type)                 Output Shape              Param #   \n",
      "=================================================================\n",
      "gru_1 (GRU)                  (None, None, 512)         806400    \n",
      "_________________________________________________________________\n",
      "dense_1 (Dense)              (None, None, 1)           513       \n",
      "=================================================================\n",
      "Total params: 806,913\n",
      "Trainable params: 806,913\n",
      "Non-trainable params: 0\n",
      "_________________________________________________________________\n"
     ]
    }
   ],
   "source": [
    "model.summary()"
   ]
  },
  {
   "cell_type": "code",
   "execution_count": 203,
   "metadata": {},
   "outputs": [],
   "source": [
    "pathCheckpoint = 'checkpoint.keras'\n",
    "callbackCheckpoint = ModelCheckpoint(filepath=pathCheckpoint,\n",
    "                                      monitor='val_loss',\n",
    "                                      verbose=1,\n",
    "                                      save_weights_only=True,\n",
    "                                      save_best_only=True)"
   ]
  },
  {
   "cell_type": "code",
   "execution_count": 204,
   "metadata": {},
   "outputs": [],
   "source": [
    "callbackEarlyStopping = EarlyStopping(monitor='val_loss',\n",
    "                                        patience=5, verbose=1)"
   ]
  },
  {
   "cell_type": "code",
   "execution_count": 205,
   "metadata": {},
   "outputs": [],
   "source": [
    "# callback_tensorboard = TensorBoard(log_dir='./23_logs/',\n",
    "#                                    histogram_freq=0,\n",
    "#                                    write_graph=False)"
   ]
  },
  {
   "cell_type": "code",
   "execution_count": 206,
   "metadata": {},
   "outputs": [],
   "source": [
    "callbackReduceLR = ReduceLROnPlateau(monitor='val_loss',\n",
    "                                       factor=0.1,\n",
    "                                       min_lr=1e-4,\n",
    "                                       patience=0,\n",
    "                                       verbose=1)"
   ]
  },
  {
   "cell_type": "code",
   "execution_count": 207,
   "metadata": {},
   "outputs": [],
   "source": [
    "callbacks = [callbackEarlyStopping,\n",
    "             callbackCheckpoint,\n",
    "#              callback_tensorboard,\n",
    "             callbackReduceLR]"
   ]
  },
  {
   "cell_type": "code",
   "execution_count": 208,
   "metadata": {},
   "outputs": [
    {
     "name": "stdout",
     "output_type": "stream",
     "text": [
      "Epoch 1/20\n",
      " 99/100 [============================>.] - ETA: 0s - loss: 0.0023 - mean_squared_error: 0.0180\n",
      "Epoch 00001: val_loss improved from inf to 0.01948, saving model to checkpoint.keras\n",
      "100/100 [==============================] - 54s 536ms/step - loss: 0.0023 - mean_squared_error: 0.0180 - val_loss: 0.0195 - val_mean_squared_error: 0.0244\n",
      "Epoch 2/20\n",
      " 99/100 [============================>.] - ETA: 0s - loss: 0.0014 - mean_squared_error: 0.0175\n",
      "Epoch 00002: val_loss did not improve\n",
      "100/100 [==============================] - 55s 546ms/step - loss: 0.0014 - mean_squared_error: 0.0175 - val_loss: 0.0216 - val_mean_squared_error: 0.0256\n",
      "Epoch 3/20\n",
      " 99/100 [============================>.] - ETA: 0s - loss: 9.4350e-04 - mean_squared_error: 0.0172\n",
      "Epoch 00003: val_loss did not improve\n",
      "100/100 [==============================] - 59s 586ms/step - loss: 9.4205e-04 - mean_squared_error: 0.0172 - val_loss: 0.0233 - val_mean_squared_error: 0.0269\n",
      "Epoch 4/20\n",
      " 99/100 [============================>.] - ETA: 0s - loss: 6.7682e-04 - mean_squared_error: 0.0170\n",
      "Epoch 00004: val_loss did not improve\n",
      "100/100 [==============================] - 54s 544ms/step - loss: 6.7539e-04 - mean_squared_error: 0.0170 - val_loss: 0.0234 - val_mean_squared_error: 0.0269\n",
      "Epoch 5/20\n",
      " 99/100 [============================>.] - ETA: 0s - loss: 5.3563e-04 - mean_squared_error: 0.0168\n",
      "Epoch 00005: val_loss did not improve\n",
      "100/100 [==============================] - 52s 517ms/step - loss: 5.3498e-04 - mean_squared_error: 0.0168 - val_loss: 0.0255 - val_mean_squared_error: 0.0280\n",
      "Epoch 6/20\n",
      " 99/100 [============================>.] - ETA: 0s - loss: 4.3479e-04 - mean_squared_error: 0.0167\n",
      "Epoch 00006: val_loss did not improve\n",
      "100/100 [==============================] - 53s 528ms/step - loss: 4.3394e-04 - mean_squared_error: 0.0167 - val_loss: 0.0258 - val_mean_squared_error: 0.0284\n",
      "Epoch 00006: early stopping\n",
      "Wall time: 5min 26s\n"
     ]
    },
    {
     "data": {
      "text/plain": [
       "<tensorflow.python.keras._impl.keras.callbacks.History at 0x20b0045b470>"
      ]
     },
     "execution_count": 208,
     "metadata": {},
     "output_type": "execute_result"
    }
   ],
   "source": [
    "%%time\n",
    "model.fit_generator(generator=generator,\n",
    "                    epochs=20,\n",
    "                    steps_per_epoch=100,\n",
    "                    validation_data=validationData,\n",
    "                    callbacks=callbacks)"
   ]
  },
  {
   "cell_type": "code",
   "execution_count": 209,
   "metadata": {},
   "outputs": [],
   "source": [
    "try:\n",
    "    model.load_weights(pathCheckpoint)\n",
    "except Exception as error:\n",
    "    print(\"Error trying to load checkpoint.\")\n",
    "    print(error)"
   ]
  },
  {
   "cell_type": "code",
   "execution_count": 210,
   "metadata": {},
   "outputs": [
    {
     "name": "stdout",
     "output_type": "stream",
     "text": [
      "1/1 [==============================] - 0s 68ms/step\n",
      "loss (test-set): [0.019476503133773804, 0.024429162964224815]\n"
     ]
    }
   ],
   "source": [
    "result = model.evaluate(x=np.expand_dims(xTestScaled, axis=0),\n",
    "                        y=np.expand_dims(yTestScaled, axis=0))\n",
    "print(\"loss (test-set):\", result)"
   ]
  },
  {
   "cell_type": "code",
   "execution_count": 264,
   "metadata": {},
   "outputs": [
    {
     "data": {
      "text/plain": [
       "['loss', 'mean_squared_error']"
      ]
     },
     "execution_count": 264,
     "metadata": {},
     "output_type": "execute_result"
    }
   ],
   "source": [
    "model.metrics"
   ]
  },
  {
   "cell_type": "code",
   "execution_count": 236,
   "metadata": {},
   "outputs": [],
   "source": [
    "# If you have several metrics you can use this instead.\n",
    "if False:\n",
    "    for res, metric in zip(result, model.metrics_names):\n",
    "        print(\"{0}: {1:.3e}\".format(metric, res))"
   ]
  },
  {
   "cell_type": "code",
   "execution_count": 253,
   "metadata": {},
   "outputs": [],
   "source": [
    "x1 = np.expand_dims(xTrainScaled, axis=0)\n",
    "yPred1 = model.predict(x1)\n",
    "yPredRescaled1 = yScaler.inverse_transform(yPred1[0])"
   ]
  },
  {
   "cell_type": "code",
   "execution_count": 254,
   "metadata": {},
   "outputs": [],
   "source": [
    "x2 = np.expand_dims(xTestScaled, axis=0)\n",
    "yPred2 = model.predict(x2)\n",
    "yPredRescaled2 = yScaler.inverse_transform(yPred2[0])"
   ]
  },
  {
   "cell_type": "code",
   "execution_count": 282,
   "metadata": {},
   "outputs": [],
   "source": [
    "t = np.arange(len(rawData['Price']) - shiftMonths)"
   ]
  },
  {
   "cell_type": "code",
   "execution_count": 309,
   "metadata": {},
   "outputs": [
    {
     "data": {
      "image/png": "[encoded data removed]",
      "text/plain": [
       "<Figure size 1800x576 with 1 Axes>"
      ]
     },
     "metadata": {},
     "output_type": "display_data"
    }
   ],
   "source": [
    "# Make the plotting-canvas bigger.\n",
    "plt.figure(figsize=(25,8))\n",
    "        \n",
    "# Plot and compare the two signals.\n",
    "plt.plot(t[:len(yTrain)], yTrain, label='true train')\n",
    "plt.plot(t[:len(yTrain)], yPredRescaled1, label='prediction train')\n",
    "plt.plot(t[len(yTrain):], yTest, label='true test')\n",
    "plt.plot(t[len(yTrain):], yPredRescaled2, label='prediction test')\n",
    "     \n",
    "# Plot grey box for warmup-period.\n",
    "p1 = plt.axvspan(0, warmUpSteps, facecolor='black', alpha=0.15)\n",
    "\n",
    "# Plot grey box for warmup-period.\n",
    "p2 = plt.axvspan(len(yTrain), (len(yTrain) + warmUpSteps), facecolor='black', alpha=0.15)\n",
    "\n",
    "plt.ylim([0,20])\n",
    "\n",
    "# Plot labels etc.\n",
    "plt.xlabel('Time Steps') # in number of months\n",
    "plt.ylabel('Price')\n",
    "plt.legend()\n",
    "plt.show()"
   ]
  },
  {
   "cell_type": "code",
   "execution_count": null,
   "metadata": {},
   "outputs": [],
   "source": []
  }
 ],
 "metadata": {
  "kernelspec": {
   "display_name": "Python 3",
   "language": "python",
   "name": "python3"
  },
  "language_info": {
   "codemirror_mode": {
    "name": "ipython",
    "version": 3
   },
   "file_extension": ".py",
   "mimetype": "text/x-python",
   "name": "python",
   "nbconvert_exporter": "python",
   "pygments_lexer": "ipython3",
   "version": "3.5.5"
  }
 },
 "nbformat": 4,
 "nbformat_minor": 2
}
