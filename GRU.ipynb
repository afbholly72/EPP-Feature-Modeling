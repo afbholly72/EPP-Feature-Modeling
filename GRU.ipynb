{
 "cells": [
  {
   "cell_type": "code",
   "execution_count": 1,
   "metadata": {},
   "outputs": [
    {
     "name": "stderr",
     "output_type": "stream",
     "text": [
      "C:\\Users\\arbaa\\AppData\\Local\\conda\\conda\\envs\\tensorflow\\lib\\site-packages\\h5py\\__init__.py:36: FutureWarning: Conversion of the second argument of issubdtype from `float` to `np.floating` is deprecated. In future, it will be treated as `np.float64 == np.dtype(float).type`.\n",
      "  from ._conv import register_converters as _register_converters\n"
     ]
    }
   ],
   "source": [
    "%matplotlib inline\n",
    "import matplotlib.pyplot as plt\n",
    "import tensorflow as tf\n",
    "import numpy as np\n",
    "import pandas as pd\n",
    "import os\n",
    "from sklearn.preprocessing import MinMaxScaler\n",
    "from sklearn.metrics import mean_squared_error\n",
    "from sklearn.metrics import accuracy_score\n",
    "from sklearn.metrics import r2_score"
   ]
  },
  {
   "cell_type": "code",
   "execution_count": 2,
   "metadata": {},
   "outputs": [],
   "source": [
    "# from tf.keras.models import Sequential  # This does not work!\n",
    "from tensorflow.python.keras.models import Sequential\n",
    "from tensorflow.python.keras.layers import Input, Dense, GRU, Embedding\n",
    "from tensorflow.python.keras.optimizers import RMSprop\n",
    "from tensorflow.python.keras.callbacks import EarlyStopping, ModelCheckpoint, TensorBoard, ReduceLROnPlateau\n",
    "from tensorflow.python.keras import metrics\n",
    "from tensorflow.python.keras.layers import Dropout\n",
    "from tensorflow.python.keras.layers import LeakyReLU"
   ]
  },
  {
   "cell_type": "code",
   "execution_count": 3,
   "metadata": {},
   "outputs": [
    {
     "data": {
      "text/html": [
       "<div>\n",
       "<style scoped>\n",
       "    .dataframe tbody tr th:only-of-type {\n",
       "        vertical-align: middle;\n",
       "    }\n",
       "\n",
       "    .dataframe tbody tr th {\n",
       "        vertical-align: top;\n",
       "    }\n",
       "\n",
       "    .dataframe thead th {\n",
       "        text-align: right;\n",
       "    }\n",
       "</style>\n",
       "<table border=\"1\" class=\"dataframe\">\n",
       "  <thead>\n",
       "    <tr style=\"text-align: right;\">\n",
       "      <th></th>\n",
       "      <th>Price</th>\n",
       "      <th>AllFuelsGen</th>\n",
       "      <th>NatGasGen</th>\n",
       "      <th>HydroGen</th>\n",
       "      <th>RenewablesGen</th>\n",
       "      <th>GDP</th>\n",
       "      <th>AvgTemp</th>\n",
       "      <th>AvgRelHum</th>\n",
       "      <th>NatGasPrice</th>\n",
       "      <th>TotElecNetGen</th>\n",
       "      <th>TotNatGasCons</th>\n",
       "      <th>TotRetailElecSales</th>\n",
       "    </tr>\n",
       "  </thead>\n",
       "  <tbody>\n",
       "    <tr>\n",
       "      <th>0</th>\n",
       "      <td>11.07</td>\n",
       "      <td>14657.59</td>\n",
       "      <td>7418.12</td>\n",
       "      <td>1685.15</td>\n",
       "      <td>1689.59</td>\n",
       "      <td>1627.98</td>\n",
       "      <td>52.57</td>\n",
       "      <td>54.51</td>\n",
       "      <td>3.90</td>\n",
       "      <td>305.50</td>\n",
       "      <td>2120.20</td>\n",
       "      <td>19959.27</td>\n",
       "    </tr>\n",
       "    <tr>\n",
       "      <th>1</th>\n",
       "      <td>11.32</td>\n",
       "      <td>14591.10</td>\n",
       "      <td>6687.45</td>\n",
       "      <td>2515.53</td>\n",
       "      <td>1812.00</td>\n",
       "      <td>1631.46</td>\n",
       "      <td>54.04</td>\n",
       "      <td>47.27</td>\n",
       "      <td>3.79</td>\n",
       "      <td>319.94</td>\n",
       "      <td>2487.64</td>\n",
       "      <td>19863.79</td>\n",
       "    </tr>\n",
       "    <tr>\n",
       "      <th>2</th>\n",
       "      <td>11.17</td>\n",
       "      <td>12655.47</td>\n",
       "      <td>5888.04</td>\n",
       "      <td>1920.92</td>\n",
       "      <td>1626.95</td>\n",
       "      <td>1634.93</td>\n",
       "      <td>59.60</td>\n",
       "      <td>38.86</td>\n",
       "      <td>3.76</td>\n",
       "      <td>281.83</td>\n",
       "      <td>2242.43</td>\n",
       "      <td>17781.30</td>\n",
       "    </tr>\n",
       "    <tr>\n",
       "      <th>3</th>\n",
       "      <td>11.35</td>\n",
       "      <td>15788.66</td>\n",
       "      <td>7704.10</td>\n",
       "      <td>2452.48</td>\n",
       "      <td>1933.86</td>\n",
       "      <td>1638.40</td>\n",
       "      <td>55.29</td>\n",
       "      <td>51.49</td>\n",
       "      <td>3.84</td>\n",
       "      <td>302.55</td>\n",
       "      <td>2258.43</td>\n",
       "      <td>18227.13</td>\n",
       "    </tr>\n",
       "    <tr>\n",
       "      <th>4</th>\n",
       "      <td>10.99</td>\n",
       "      <td>13995.83</td>\n",
       "      <td>5634.56</td>\n",
       "      <td>2913.90</td>\n",
       "      <td>1895.40</td>\n",
       "      <td>1641.88</td>\n",
       "      <td>57.28</td>\n",
       "      <td>70.29</td>\n",
       "      <td>4.21</td>\n",
       "      <td>289.85</td>\n",
       "      <td>1880.99</td>\n",
       "      <td>18614.31</td>\n",
       "    </tr>\n",
       "  </tbody>\n",
       "</table>\n",
       "</div>"
      ],
      "text/plain": [
       "   Price  AllFuelsGen  NatGasGen  HydroGen  RenewablesGen      GDP  AvgTemp  \\\n",
       "0  11.07     14657.59    7418.12   1685.15        1689.59  1627.98    52.57   \n",
       "1  11.32     14591.10    6687.45   2515.53        1812.00  1631.46    54.04   \n",
       "2  11.17     12655.47    5888.04   1920.92        1626.95  1634.93    59.60   \n",
       "3  11.35     15788.66    7704.10   2452.48        1933.86  1638.40    55.29   \n",
       "4  10.99     13995.83    5634.56   2913.90        1895.40  1641.88    57.28   \n",
       "\n",
       "   AvgRelHum  NatGasPrice  TotElecNetGen  TotNatGasCons  TotRetailElecSales  \n",
       "0      54.51         3.90         305.50        2120.20            19959.27  \n",
       "1      47.27         3.79         319.94        2487.64            19863.79  \n",
       "2      38.86         3.76         281.83        2242.43            17781.30  \n",
       "3      51.49         3.84         302.55        2258.43            18227.13  \n",
       "4      70.29         4.21         289.85        1880.99            18614.31  "
      ]
     },
     "execution_count": 3,
     "metadata": {},
     "output_type": "execute_result"
    }
   ],
   "source": [
    "rawData = pd.read_csv('toyData.csv', sep=',')\n",
    "rawData.head()"
   ]
  },
  {
   "cell_type": "code",
   "execution_count": 4,
   "metadata": {},
   "outputs": [],
   "source": [
    "shiftMonths = 36"
   ]
  },
  {
   "cell_type": "code",
   "execution_count": 5,
   "metadata": {},
   "outputs": [],
   "source": [
    "dfTargets = rawData.shift(-shiftMonths)"
   ]
  },
  {
   "cell_type": "code",
   "execution_count": 6,
   "metadata": {},
   "outputs": [
    {
     "data": {
      "text/html": [
       "<div>\n",
       "<style scoped>\n",
       "    .dataframe tbody tr th:only-of-type {\n",
       "        vertical-align: middle;\n",
       "    }\n",
       "\n",
       "    .dataframe tbody tr th {\n",
       "        vertical-align: top;\n",
       "    }\n",
       "\n",
       "    .dataframe thead th {\n",
       "        text-align: right;\n",
       "    }\n",
       "</style>\n",
       "<table border=\"1\" class=\"dataframe\">\n",
       "  <thead>\n",
       "    <tr style=\"text-align: right;\">\n",
       "      <th></th>\n",
       "      <th>Price</th>\n",
       "      <th>AllFuelsGen</th>\n",
       "      <th>NatGasGen</th>\n",
       "      <th>HydroGen</th>\n",
       "      <th>RenewablesGen</th>\n",
       "      <th>GDP</th>\n",
       "      <th>AvgTemp</th>\n",
       "      <th>AvgRelHum</th>\n",
       "      <th>NatGasPrice</th>\n",
       "      <th>TotElecNetGen</th>\n",
       "      <th>TotNatGasCons</th>\n",
       "      <th>TotRetailElecSales</th>\n",
       "    </tr>\n",
       "  </thead>\n",
       "  <tbody>\n",
       "    <tr>\n",
       "      <th>0</th>\n",
       "      <td>10.08</td>\n",
       "      <td>14933.67</td>\n",
       "      <td>8369.46</td>\n",
       "      <td>2274.19</td>\n",
       "      <td>1722.82</td>\n",
       "      <td>1832.79</td>\n",
       "      <td>55.31</td>\n",
       "      <td>54.01</td>\n",
       "      <td>7.49</td>\n",
       "      <td>341.95</td>\n",
       "      <td>2327.73</td>\n",
       "      <td>22930.60</td>\n",
       "    </tr>\n",
       "    <tr>\n",
       "      <th>1</th>\n",
       "      <td>10.85</td>\n",
       "      <td>14708.33</td>\n",
       "      <td>7131.80</td>\n",
       "      <td>2308.10</td>\n",
       "      <td>1795.28</td>\n",
       "      <td>1839.25</td>\n",
       "      <td>54.75</td>\n",
       "      <td>65.69</td>\n",
       "      <td>7.05</td>\n",
       "      <td>343.12</td>\n",
       "      <td>2561.86</td>\n",
       "      <td>20470.91</td>\n",
       "    </tr>\n",
       "    <tr>\n",
       "      <th>2</th>\n",
       "      <td>11.21</td>\n",
       "      <td>13294.17</td>\n",
       "      <td>6231.40</td>\n",
       "      <td>2568.14</td>\n",
       "      <td>1545.74</td>\n",
       "      <td>1845.71</td>\n",
       "      <td>53.61</td>\n",
       "      <td>74.66</td>\n",
       "      <td>7.09</td>\n",
       "      <td>298.50</td>\n",
       "      <td>2242.99</td>\n",
       "      <td>18295.03</td>\n",
       "    </tr>\n",
       "    <tr>\n",
       "      <th>3</th>\n",
       "      <td>10.44</td>\n",
       "      <td>15260.67</td>\n",
       "      <td>6635.72</td>\n",
       "      <td>3045.17</td>\n",
       "      <td>1927.11</td>\n",
       "      <td>1852.18</td>\n",
       "      <td>56.41</td>\n",
       "      <td>69.33</td>\n",
       "      <td>7.24</td>\n",
       "      <td>317.46</td>\n",
       "      <td>2205.79</td>\n",
       "      <td>20709.51</td>\n",
       "    </tr>\n",
       "    <tr>\n",
       "      <th>4</th>\n",
       "      <td>10.91</td>\n",
       "      <td>15411.81</td>\n",
       "      <td>6091.44</td>\n",
       "      <td>3500.97</td>\n",
       "      <td>1981.35</td>\n",
       "      <td>1858.64</td>\n",
       "      <td>59.46</td>\n",
       "      <td>55.26</td>\n",
       "      <td>7.79</td>\n",
       "      <td>289.56</td>\n",
       "      <td>1724.88</td>\n",
       "      <td>18656.35</td>\n",
       "    </tr>\n",
       "  </tbody>\n",
       "</table>\n",
       "</div>"
      ],
      "text/plain": [
       "   Price  AllFuelsGen  NatGasGen  HydroGen  RenewablesGen      GDP  AvgTemp  \\\n",
       "0  10.08     14933.67    8369.46   2274.19        1722.82  1832.79    55.31   \n",
       "1  10.85     14708.33    7131.80   2308.10        1795.28  1839.25    54.75   \n",
       "2  11.21     13294.17    6231.40   2568.14        1545.74  1845.71    53.61   \n",
       "3  10.44     15260.67    6635.72   3045.17        1927.11  1852.18    56.41   \n",
       "4  10.91     15411.81    6091.44   3500.97        1981.35  1858.64    59.46   \n",
       "\n",
       "   AvgRelHum  NatGasPrice  TotElecNetGen  TotNatGasCons  TotRetailElecSales  \n",
       "0      54.01         7.49         341.95        2327.73            22930.60  \n",
       "1      65.69         7.05         343.12        2561.86            20470.91  \n",
       "2      74.66         7.09         298.50        2242.99            18295.03  \n",
       "3      69.33         7.24         317.46        2205.79            20709.51  \n",
       "4      55.26         7.79         289.56        1724.88            18656.35  "
      ]
     },
     "execution_count": 6,
     "metadata": {},
     "output_type": "execute_result"
    }
   ],
   "source": [
    "dfTargets.head()"
   ]
  },
  {
   "cell_type": "code",
   "execution_count": 7,
   "metadata": {},
   "outputs": [],
   "source": [
    "xData = rawData.values[0:-shiftMonths]"
   ]
  },
  {
   "cell_type": "code",
   "execution_count": 8,
   "metadata": {},
   "outputs": [
    {
     "name": "stdout",
     "output_type": "stream",
     "text": [
      "<class 'numpy.ndarray'>\n",
      "Shape: (134, 12)\n"
     ]
    }
   ],
   "source": [
    "print(type(xData))\n",
    "print(\"Shape:\", xData.shape)"
   ]
  },
  {
   "cell_type": "code",
   "execution_count": 9,
   "metadata": {},
   "outputs": [],
   "source": [
    "yData = dfTargets.values[:-shiftMonths,0]"
   ]
  },
  {
   "cell_type": "code",
   "execution_count": 10,
   "metadata": {},
   "outputs": [
    {
     "name": "stdout",
     "output_type": "stream",
     "text": [
      "<class 'numpy.ndarray'>\n",
      "Shape: (134,)\n"
     ]
    }
   ],
   "source": [
    "print(type(yData))\n",
    "print(\"Shape:\", yData.shape)"
   ]
  },
  {
   "cell_type": "code",
   "execution_count": 11,
   "metadata": {},
   "outputs": [],
   "source": [
    "xTrain = xData[:(len(yData)-shiftMonths)]\n",
    "xTest = xData[-shiftMonths:]\n",
    "yTrain = yData[:(len(yData)-shiftMonths)]\n",
    "yTest = yData[-shiftMonths:]"
   ]
  },
  {
   "cell_type": "code",
   "execution_count": 12,
   "metadata": {},
   "outputs": [
    {
     "name": "stdout",
     "output_type": "stream",
     "text": [
      "Number of samples in training data: 98\n",
      "Number of samples in test data: 36\n"
     ]
    }
   ],
   "source": [
    "print ('Number of samples in training data:',len(xTrain))\n",
    "print ('Number of samples in test data:',len(xTest))"
   ]
  },
  {
   "cell_type": "code",
   "execution_count": 13,
   "metadata": {},
   "outputs": [],
   "source": [
    "xScaler = MinMaxScaler()"
   ]
  },
  {
   "cell_type": "code",
   "execution_count": 14,
   "metadata": {},
   "outputs": [],
   "source": [
    "xTrainScaled = xScaler.fit_transform(xTrain)"
   ]
  },
  {
   "cell_type": "code",
   "execution_count": 15,
   "metadata": {},
   "outputs": [
    {
     "name": "stdout",
     "output_type": "stream",
     "text": [
      "Min: 0.0\n",
      "Max: 1.0\n"
     ]
    }
   ],
   "source": [
    "print(\"Min:\", np.min(xTrainScaled))\n",
    "print(\"Max:\", np.max(xTrainScaled))"
   ]
  },
  {
   "cell_type": "code",
   "execution_count": 16,
   "metadata": {},
   "outputs": [],
   "source": [
    "xTestScaled = xScaler.transform(xTest)"
   ]
  },
  {
   "cell_type": "code",
   "execution_count": 17,
   "metadata": {},
   "outputs": [],
   "source": [
    "yTrain = yTrain.reshape(-1, 1)\n",
    "yTest = yTest.reshape(-1, 1)"
   ]
  },
  {
   "cell_type": "code",
   "execution_count": 18,
   "metadata": {},
   "outputs": [],
   "source": [
    "yScaler = MinMaxScaler(feature_range=(2, 4))\n",
    "yTrainScaled = yScaler.fit_transform(yTrain)\n",
    "yTestScaled = yScaler.transform(yTest)"
   ]
  },
  {
   "cell_type": "code",
   "execution_count": 19,
   "metadata": {},
   "outputs": [
    {
     "name": "stdout",
     "output_type": "stream",
     "text": [
      "(98, 12)\n",
      "(98, 1)\n"
     ]
    }
   ],
   "source": [
    "print(xTrainScaled.shape)\n",
    "print(yTrainScaled.shape)"
   ]
  },
  {
   "cell_type": "code",
   "execution_count": 20,
   "metadata": {},
   "outputs": [],
   "source": [
    "numXSignals = xData.shape[1]\n",
    "numYSignals = 1"
   ]
  },
  {
   "cell_type": "code",
   "execution_count": 21,
   "metadata": {},
   "outputs": [],
   "source": [
    "def batchGenerator(batchSize, sequenceLength):\n",
    "    \"\"\"\n",
    "    Generator function for creating random batches of training-data.\n",
    "    \"\"\"\n",
    "\n",
    "    # Infinite loop.\n",
    "    while True:\n",
    "        # Allocate a new array for the batch of input-signals.\n",
    "        numXSignals = xData.shape[1]\n",
    "        xShape = (batchSize, sequenceLength, numXSignals)\n",
    "        xBatch = np.zeros(shape=xShape, dtype=np.float16)\n",
    "\n",
    "        # Allocate a new array for the batch of output-signals.\n",
    "        numYSignals = 1\n",
    "        yShape = (batchSize, sequenceLength, numYSignals)\n",
    "        yBatch = np.zeros(shape=yShape, dtype=np.float16)\n",
    "\n",
    "        # Fill the batch with random sequences of data.\n",
    "        for i in range(batchSize):\n",
    "            # Get a random start-index.\n",
    "            # This points somewhere into the training-data.\n",
    "            numTrain = len(yTrain)\n",
    "            idx = np.random.randint(numTrain - sequenceLength)\n",
    "            \n",
    "            # Copy the sequences of data starting at this index.\n",
    "            xBatch[i] = xTrainScaled[idx:idx+sequenceLength]\n",
    "            yBatch[i] = yTrainScaled[idx:idx+sequenceLength]\n",
    "        \n",
    "        yield (xBatch, yBatch)"
   ]
  },
  {
   "cell_type": "code",
   "execution_count": 22,
   "metadata": {},
   "outputs": [],
   "source": [
    "batchSize = 4\n",
    "sequenceLength = 18"
   ]
  },
  {
   "cell_type": "code",
   "execution_count": 23,
   "metadata": {},
   "outputs": [],
   "source": [
    "generator = batchGenerator(batchSize=batchSize,\n",
    "                           sequenceLength=sequenceLength)"
   ]
  },
  {
   "cell_type": "code",
   "execution_count": 24,
   "metadata": {},
   "outputs": [],
   "source": [
    "xBatch, yBatch = next(generator)"
   ]
  },
  {
   "cell_type": "code",
   "execution_count": 25,
   "metadata": {},
   "outputs": [
    {
     "name": "stdout",
     "output_type": "stream",
     "text": [
      "(4, 18, 12)\n",
      "(4, 18, 1)\n"
     ]
    }
   ],
   "source": [
    "print(xBatch.shape)\n",
    "print(yBatch.shape)"
   ]
  },
  {
   "cell_type": "code",
   "execution_count": 26,
   "metadata": {},
   "outputs": [],
   "source": [
    "validationData = (np.expand_dims(xTestScaled, axis=0),\n",
    "                  np.expand_dims(yTestScaled, axis=0))"
   ]
  },
  {
   "cell_type": "code",
   "execution_count": 27,
   "metadata": {},
   "outputs": [],
   "source": [
    "model = Sequential()"
   ]
  },
  {
   "cell_type": "code",
   "execution_count": 28,
   "metadata": {},
   "outputs": [],
   "source": [
    "model.add(GRU(units=1024, \n",
    "              activation='tanh', \n",
    "              return_sequences=True,\n",
    "              input_shape=(None, numXSignals,)))"
   ]
  },
  {
   "cell_type": "code",
   "execution_count": 29,
   "metadata": {},
   "outputs": [],
   "source": [
    "model.add(Dropout(0.3))"
   ]
  },
  {
   "cell_type": "code",
   "execution_count": 30,
   "metadata": {},
   "outputs": [],
   "source": [
    "model.add(Dense(numYSignals, activation='relu'))\n",
    "# model.add(Dense(numYSignals))"
   ]
  },
  {
   "cell_type": "code",
   "execution_count": 31,
   "metadata": {},
   "outputs": [],
   "source": [
    "# model.add(LeakyReLU(alpha=.3))"
   ]
  },
  {
   "cell_type": "code",
   "execution_count": 32,
   "metadata": {},
   "outputs": [],
   "source": [
    "if False:\n",
    "    from tensorflow.python.keras.initializers import RandomUniform\n",
    "\n",
    "    # Maybe use lower init-ranges.\n",
    "    init = RandomUniform(minval=-0.05, maxval=0.05)\n",
    "\n",
    "    model.add(Dense(numYSignals,\n",
    "                    activation='linear',\n",
    "                    kernel_initializer=init))"
   ]
  },
  {
   "cell_type": "code",
   "execution_count": 33,
   "metadata": {},
   "outputs": [],
   "source": [
    "optimizer = RMSprop(lr=1e-3)"
   ]
  },
  {
   "cell_type": "code",
   "execution_count": 34,
   "metadata": {},
   "outputs": [],
   "source": [
    "model.compile(loss='mae', \n",
    "              optimizer=optimizer, \n",
    "              metrics = ['mse'])"
   ]
  },
  {
   "cell_type": "code",
   "execution_count": 35,
   "metadata": {},
   "outputs": [
    {
     "name": "stdout",
     "output_type": "stream",
     "text": [
      "_________________________________________________________________\n",
      "Layer (type)                 Output Shape              Param #   \n",
      "=================================================================\n",
      "gru_1 (GRU)                  (None, None, 1024)        3185664   \n",
      "_________________________________________________________________\n",
      "dropout_1 (Dropout)          (None, None, 1024)        0         \n",
      "_________________________________________________________________\n",
      "dense_1 (Dense)              (None, None, 1)           1025      \n",
      "=================================================================\n",
      "Total params: 3,186,689\n",
      "Trainable params: 3,186,689\n",
      "Non-trainable params: 0\n",
      "_________________________________________________________________\n"
     ]
    }
   ],
   "source": [
    "model.summary()"
   ]
  },
  {
   "cell_type": "code",
   "execution_count": 36,
   "metadata": {},
   "outputs": [],
   "source": [
    "pathCheckpoint = 'checkpoint.keras'\n",
    "callbackCheckpoint = ModelCheckpoint(filepath=pathCheckpoint,\n",
    "                                      monitor='val_loss',\n",
    "                                      verbose=1,\n",
    "                                      save_weights_only=True,\n",
    "                                      save_best_only=True)"
   ]
  },
  {
   "cell_type": "code",
   "execution_count": 37,
   "metadata": {},
   "outputs": [],
   "source": [
    "callbackEarlyStopping = EarlyStopping(monitor='val_loss',\n",
    "                                        patience=5, verbose=1)"
   ]
  },
  {
   "cell_type": "code",
   "execution_count": 38,
   "metadata": {},
   "outputs": [],
   "source": [
    "# callback_tensorboard = TensorBoard(log_dir='./23_logs/',\n",
    "#                                    histogram_freq=0,\n",
    "#                                    write_graph=False)"
   ]
  },
  {
   "cell_type": "code",
   "execution_count": 39,
   "metadata": {},
   "outputs": [],
   "source": [
    "callbackReduceLR = ReduceLROnPlateau(monitor='val_loss',\n",
    "                                       factor=0.1,\n",
    "                                       min_lr=1e-4,\n",
    "                                       patience=0,\n",
    "                                       verbose=1)"
   ]
  },
  {
   "cell_type": "code",
   "execution_count": 40,
   "metadata": {},
   "outputs": [],
   "source": [
    "callbacks = [callbackEarlyStopping,\n",
    "             callbackCheckpoint,\n",
    "#              callback_tensorboard,\n",
    "             callbackReduceLR]"
   ]
  },
  {
   "cell_type": "code",
   "execution_count": 41,
   "metadata": {},
   "outputs": [
    {
     "name": "stdout",
     "output_type": "stream",
     "text": [
      "Epoch 1/50\n",
      "17/18 [===========================>..] - ETA: 1s - loss: 2.6113 - mean_squared_error: 34.4903\n",
      "Epoch 00001: val_loss improved from inf to 1.26022, saving model to checkpoint.keras\n",
      "18/18 [==============================] - 28s 2s/step - loss: 2.5001 - mean_squared_error: 32.6083 - val_loss: 1.2602 - val_mean_squared_error: 1.7347\n",
      "Epoch 2/50\n",
      "17/18 [===========================>..] - ETA: 1s - loss: 0.6038 - mean_squared_error: 0.5517\n",
      "Epoch 00002: val_loss improved from 1.26022 to 1.14535, saving model to checkpoint.keras\n",
      "18/18 [==============================] - 25s 1s/step - loss: 0.5998 - mean_squared_error: 0.5431 - val_loss: 1.1453 - val_mean_squared_error: 1.4191\n",
      "Epoch 3/50\n",
      "17/18 [===========================>..] - ETA: 1s - loss: 0.4432 - mean_squared_error: 0.3192\n",
      "Epoch 00003: val_loss improved from 1.14535 to 0.98220, saving model to checkpoint.keras\n",
      "18/18 [==============================] - 25s 1s/step - loss: 0.4467 - mean_squared_error: 0.3203 - val_loss: 0.9822 - val_mean_squared_error: 1.0682\n",
      "Epoch 4/50\n",
      "17/18 [===========================>..] - ETA: 1s - loss: 0.3755 - mean_squared_error: 0.2392\n",
      "Epoch 00004: val_loss improved from 0.98220 to 0.43395, saving model to checkpoint.keras\n",
      "18/18 [==============================] - 25s 1s/step - loss: 0.3700 - mean_squared_error: 0.2338 - val_loss: 0.4340 - val_mean_squared_error: 0.2579\n",
      "Epoch 5/50\n",
      "17/18 [===========================>..] - ETA: 1s - loss: 0.3442 - mean_squared_error: 0.1882\n",
      "Epoch 00005: val_loss improved from 0.43395 to 0.42787, saving model to checkpoint.keras\n",
      "18/18 [==============================] - 26s 1s/step - loss: 0.3428 - mean_squared_error: 0.1871 - val_loss: 0.4279 - val_mean_squared_error: 0.2390\n",
      "Epoch 6/50\n",
      "17/18 [===========================>..] - ETA: 1s - loss: 0.2811 - mean_squared_error: 0.1318\n",
      "Epoch 00006: val_loss improved from 0.42787 to 0.40236, saving model to checkpoint.keras\n",
      "18/18 [==============================] - 25s 1s/step - loss: 0.2806 - mean_squared_error: 0.1313 - val_loss: 0.4024 - val_mean_squared_error: 0.2093\n",
      "Epoch 7/50\n",
      "17/18 [===========================>..] - ETA: 1s - loss: 0.2422 - mean_squared_error: 0.0990\n",
      "Epoch 00007: val_loss did not improve\n",
      "\n",
      "Epoch 00007: ReduceLROnPlateau reducing learning rate to 0.00010000000474974513.\n",
      "18/18 [==============================] - 30s 2s/step - loss: 0.2444 - mean_squared_error: 0.0998 - val_loss: 0.8790 - val_mean_squared_error: 0.8438\n",
      "Epoch 8/50\n",
      "17/18 [===========================>..] - ETA: 1s - loss: 0.2036 - mean_squared_error: 0.0733\n",
      "Epoch 00008: val_loss did not improve\n",
      "\n",
      "Epoch 00008: ReduceLROnPlateau reducing learning rate to 0.0001.\n",
      "18/18 [==============================] - 25s 1s/step - loss: 0.2016 - mean_squared_error: 0.0721 - val_loss: 0.6474 - val_mean_squared_error: 0.4732\n",
      "Epoch 9/50\n",
      "17/18 [===========================>..] - ETA: 1s - loss: 0.1731 - mean_squared_error: 0.0555\n",
      "Epoch 00009: val_loss did not improve\n",
      "18/18 [==============================] - 26s 1s/step - loss: 0.1722 - mean_squared_error: 0.0550 - val_loss: 0.6777 - val_mean_squared_error: 0.5161\n",
      "Epoch 10/50\n",
      "17/18 [===========================>..] - ETA: 1s - loss: 0.1770 - mean_squared_error: 0.0561\n",
      "Epoch 00010: val_loss did not improve\n",
      "18/18 [==============================] - 26s 1s/step - loss: 0.1764 - mean_squared_error: 0.0557 - val_loss: 0.6592 - val_mean_squared_error: 0.4894\n",
      "Epoch 11/50\n",
      "17/18 [===========================>..] - ETA: 1s - loss: 0.1679 - mean_squared_error: 0.0512\n",
      "Epoch 00011: val_loss did not improve\n",
      "18/18 [==============================] - 25s 1s/step - loss: 0.1685 - mean_squared_error: 0.0515 - val_loss: 0.6581 - val_mean_squared_error: 0.4870\n",
      "Epoch 00011: early stopping\n",
      "Wall time: 4min 46s\n"
     ]
    }
   ],
   "source": [
    "%%time\n",
    "history = model.fit_generator(generator=generator,\n",
    "                              epochs=50,\n",
    "                              steps_per_epoch=18,\n",
    "                              validation_data=validationData,\n",
    "                              callbacks=callbacks)"
   ]
  },
  {
   "cell_type": "code",
   "execution_count": 42,
   "metadata": {},
   "outputs": [],
   "source": [
    "try:\n",
    "    model.load_weights(pathCheckpoint)\n",
    "except Exception as error:\n",
    "    print(\"Error trying to load checkpoint.\")\n",
    "    print(error)"
   ]
  },
  {
   "cell_type": "code",
   "execution_count": 43,
   "metadata": {},
   "outputs": [
    {
     "data": {
      "image/png": "[encoded data removed]",
      "text/plain": [
       "<Figure size 432x288 with 1 Axes>"
      ]
     },
     "metadata": {},
     "output_type": "display_data"
    }
   ],
   "source": [
    "# plot history\n",
    "plt.plot(history.history['loss'], label='train')\n",
    "plt.plot(history.history['val_loss'], label='test')\n",
    "plt.legend()\n",
    "plt.show()"
   ]
  },
  {
   "cell_type": "code",
   "execution_count": 44,
   "metadata": {},
   "outputs": [
    {
     "name": "stdout",
     "output_type": "stream",
     "text": [
      "1/1 [==============================] - 0s 332ms/step\n",
      "loss (test-set): [0.40235722064971924, 0.20934425294399261]\n"
     ]
    }
   ],
   "source": [
    "result = model.evaluate(x=np.expand_dims(xTestScaled, axis=0),\n",
    "                        y=np.expand_dims(yTestScaled, axis=0))\n",
    "print(\"loss (test-set):\", result)"
   ]
  },
  {
   "cell_type": "code",
   "execution_count": 45,
   "metadata": {},
   "outputs": [],
   "source": [
    "# If you have several metrics you can use this instead.\n",
    "if False:\n",
    "    for res, metric in zip(result, model.metrics_names):\n",
    "        print(\"{0}: {1:.3e}\".format(metric, res))"
   ]
  },
  {
   "cell_type": "code",
   "execution_count": 46,
   "metadata": {},
   "outputs": [],
   "source": [
    "x1 = np.expand_dims(xTrainScaled, axis=0)\n",
    "yPred1 = model.predict(x1)\n",
    "yPredRescaled1 = yScaler.inverse_transform(yPred1[0])"
   ]
  },
  {
   "cell_type": "code",
   "execution_count": 47,
   "metadata": {},
   "outputs": [],
   "source": [
    "x2 = np.expand_dims(xTestScaled, axis=0)\n",
    "yPred2 = model.predict(x2)\n",
    "yPredRescaled2 = yScaler.inverse_transform(yPred2[0])"
   ]
  },
  {
   "cell_type": "code",
   "execution_count": 48,
   "metadata": {},
   "outputs": [],
   "source": [
    "t = np.arange(len(rawData['Price']) - shiftMonths)"
   ]
  },
  {
   "cell_type": "code",
   "execution_count": 49,
   "metadata": {},
   "outputs": [
    {
     "data": {
      "image/png": "[encoded data removed]",
      "text/plain": [
       "<Figure size 1800x576 with 1 Axes>"
      ]
     },
     "metadata": {},
     "output_type": "display_data"
    }
   ],
   "source": [
    "# Make the plotting-canvas bigger.\n",
    "plt.figure(figsize=(25,8))\n",
    "        \n",
    "# Plot and compare the two signals.\n",
    "plt.plot(t[:len(yTrain)], yTrain, label='true train')\n",
    "plt.plot(t[:len(yTrain)], yPredRescaled1, label='prediction train')\n",
    "plt.plot(t[len(yTrain):], yTest, label='true test')\n",
    "plt.plot(t[len(yTrain):], yPredRescaled2, label='prediction test')\n",
    "\n",
    "plt.ylim([0,20])\n",
    "\n",
    "# Plot labels etc.\n",
    "plt.xlabel('Time Steps') # in number of months\n",
    "plt.ylabel('Price')\n",
    "plt.legend()\n",
    "plt.show()"
   ]
  },
  {
   "cell_type": "code",
   "execution_count": 50,
   "metadata": {},
   "outputs": [
    {
     "data": {
      "text/plain": [
       "1.2422255172639836"
      ]
     },
     "execution_count": 50,
     "metadata": {},
     "output_type": "execute_result"
    }
   ],
   "source": [
    "np.sqrt(mean_squared_error(yTest, yPredRescaled2))"
   ]
  }
 ],
 "metadata": {
  "kernelspec": {
   "display_name": "Python 3",
   "language": "python",
   "name": "python3"
  },
  "language_info": {
   "codemirror_mode": {
    "name": "ipython",
    "version": 3
   },
   "file_extension": ".py",
   "mimetype": "text/x-python",
   "name": "python",
   "nbconvert_exporter": "python",
   "pygments_lexer": "ipython3",
   "version": "3.5.5"
  }
 },
 "nbformat": 4,
 "nbformat_minor": 2
}
